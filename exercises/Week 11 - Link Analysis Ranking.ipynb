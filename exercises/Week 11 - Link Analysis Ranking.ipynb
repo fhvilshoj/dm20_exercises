{
 "cells": [
  {
   "cell_type": "markdown",
   "metadata": {},
   "source": [
    "# Exercises Week 11 - Link Analysis Ranking"
   ]
  },
  {
   "cell_type": "code",
   "execution_count": null,
   "metadata": {},
   "outputs": [],
   "source": [
    "import numpy as np\n",
    "import networkx as nx\n",
    "%matplotlib inline\n",
    "import matplotlib.pyplot as plt\n",
    "\n",
    "import sys\n",
    "sys.path.append('../utilities')\n",
    "from load_data import load_dblp_citations"
   ]
  },
  {
   "cell_type": "markdown",
   "metadata": {},
   "source": [
    "## Exercise 1\n",
    "Prove the following statement:\n",
    "\n",
    "> In an undirected and connected graph, $G(V,E)$, the stationary distribution of a random walk is proportional to the nodes' degrees.\n",
    "\n",
    "In other words, for a transition matrix $P$, in which \n",
    "$$\n",
    "P(u, v) = \\left\\{ \n",
    "\\begin{matrix}\n",
    "\\frac{1}{d_u}&\\text{, if }(u, v) \\in E\\\\ \n",
    "0&\\text{, otherwise}\n",
    "\\end{matrix}\n",
    "\\right.\n",
    "$$\n",
    "and a stationary distribution $\\pi$, such that $\\pi = P\\pi$, prove that probability $\\pi_i$ is proportional to $d_i$, the number of edges incident on note $i$.\n",
    "\n",
    "    "
   ]
  },
  {
   "cell_type": "markdown",
   "metadata": {},
   "source": [
    "## Exercise 2\n",
    "Your task is to implement your own version of the HITS algorithm. \n",
    "You may consult this [link](https://www.geeksforgeeks.org/hyperlink-induced-topic-search-hits-algorithm-using-networxx-module-python/). \n",
    "Download the `cit-DBLP` dataset from the [citation dataset collection](http://networkrepository.com/cit.php) in the [Network Repository](http://networkrepository.com/networks.php).\n",
    "\n",
    "Apply your HITS algorithm on this citation network, using different base sets, to discover hubs and authorities.\n",
    "\n",
    "Make sure to normalize your matrix after every iteration, to ensure that values converge"
   ]
  },
  {
   "cell_type": "code",
   "execution_count": null,
   "metadata": {},
   "outputs": [],
   "source": [
    "# Method will load a list of all pairs of nodes that are \n",
    "# connected to each other by an edge.\n",
    "# Additionally, is will load precomputed positions for plotting nodes.\n",
    "# It is, however, not a pretty plot but the computatio\n",
    "edges, pos = load_dblp_citations()\n",
    "print(\"Number of edges: \", len(edges))\n",
    "print(\"Number of nodes: \", len(pos))\n",
    "print(\"Position example: \", pos[1])"
   ]
  },
  {
   "cell_type": "code",
   "execution_count": null,
   "metadata": {},
   "outputs": [],
   "source": [
    "# Tiny test graph, such that you don't need to wait while developing.\n",
    "G1 = nx.DiGraph()\n",
    "G1.add_edges_from([('A', 'D'), ('B', 'C'), ('B', 'E'), ('C', 'A'), \n",
    "                  ('D', 'C'), ('E', 'D'), ('E', 'B'), ('E', 'F'), \n",
    "                  ('E', 'C'), ('F', 'C'), ('F', 'H'), ('G', 'A'),  \n",
    "                  ('G', 'C'), ('H', 'A')])"
   ]
  },
  {
   "cell_type": "code",
   "execution_count": null,
   "metadata": {},
   "outputs": [],
   "source": [
    "def hits(G, k=10):\n",
    "    ### TODO YOUR CODE HERE\n",
    "    ### TODO YOUR CODE HERE\n",
    "    return hubs, auth\n",
    "\n",
    "# Run algorithm on small dataset and print results\n",
    "hubs, authorities = hits(G1)\n",
    "\n",
    "print(\"%-6s\\t%-6s\\t%-6s\" % (\"Node\", \"Hubs\", \"Auths.\"))\n",
    "for n, h, a in zip(G1, hubs, authorities):\n",
    "    print(\"%-6s\\t%6.4f\\t%6.4f\" % (n, h, a))\n",
    "\n",
    "# TODO Apply your algorithm to the real dataset. What are the hubs and authorities?"
   ]
  },
  {
   "cell_type": "markdown",
   "metadata": {},
   "source": [
    "## Exercise 3\n",
    "1. Make your own implementation of PageRank algorithm. \n",
    "2. Apply the PageRank algorithm on the same `cit-DBLP` dataset that you used in Exercise (2) to discover authoritative atricles.\n",
    "3. For HITS hubs value, HITS authorities value, PageRank value, compute the [Jensen-Shannon divergence](https://en.wikipedia.org/wiki/Jensen%E2%80%93Shannon_divergence) and [Kullback-Liebler divergence](https://en.wikipedia.org/wiki/Kullback%E2%80%93Leibler_divergence) between each pair of distribution. What do you observe?\n",
    "4. Discuss, how do the ranks of articles by PageRank score that you get now compare to their ranks by hub and authority scores you discovered in Exercise (2)?"
   ]
  },
  {
   "cell_type": "code",
   "execution_count": null,
   "metadata": {},
   "outputs": [],
   "source": [
    "def pagerank(G):\n",
    "    # YOUR CODE HERE\n",
    "    # YOUR CODE HERE\n",
    "    return p\n",
    "\n",
    "def kl(p1, p2): \n",
    "    # YOUR CODE HERE\n",
    "    # YOUR CODE HERE\n",
    "    return 0\n",
    "\n",
    "def js(p1, p2):\n",
    "    # YOUR CODE HERE\n",
    "    # YOUR CODE HERE\n",
    "    return 0\n",
    "\n",
    "# TODO compare results"
   ]
  }
 ],
 "metadata": {
  "kernelspec": {
   "display_name": "Python 3",
   "language": "python",
   "name": "python3"
  },
  "language_info": {
   "codemirror_mode": {
    "name": "ipython",
    "version": 3
   },
   "file_extension": ".py",
   "mimetype": "text/x-python",
   "name": "python",
   "nbconvert_exporter": "python",
   "pygments_lexer": "ipython3",
   "version": "3.7.6"
  }
 },
 "nbformat": 4,
 "nbformat_minor": 4
}
