{
 "cells": [
  {
   "cell_type": "markdown",
   "metadata": {},
   "source": [
    "# Week 1 - Normalization and data types\n",
    "\n",
    "This first week is going to be a warm-up week where we consider different statistical tools data types.\n",
    "\n",
    "Lets first import the libraries that we are going to need."
   ]
  },
  {
   "cell_type": "code",
   "execution_count": 2,
   "metadata": {},
   "outputs": [],
   "source": [
    "%matplotlib inline\n",
    "import matplotlib.pyplot as plt\n",
    "import numpy as np\n",
    "import scipy.stats"
   ]
  },
  {
   "cell_type": "markdown",
   "metadata": {},
   "source": [
    "## Exercise 1: Sample statistics and normalization\n",
    "\n",
    "Let $X$ and $Y$ be two random variables, denoting age and weight, respectively.\n",
    "Consider a random sample of size $n=20$ from these two variables"
   ]
  },
  {
   "cell_type": "code",
   "execution_count": 3,
   "metadata": {},
   "outputs": [],
   "source": [
    "X = np.array([69, 74, 68, 70, 72, 67, 66, 70, 76, 68, 72, 79, 74, 67, 66, 71, 74, 75, 75, 76])\n",
    "Y = np.array([153, 175, 155, 135, 172, 150, 115, 137, 200, 130, 140, 265, 185, 112, 140, 150, 165, 185, 210, 220])"
   ]
  },
  {
   "cell_type": "markdown",
   "metadata": {},
   "source": [
    "**a)** Find the mean, median and mode for $X$  "
   ]
  },
  {
   "cell_type": "code",
   "execution_count": 4,
   "metadata": {},
   "outputs": [
    {
     "name": "stdout",
     "output_type": "stream",
     "text": [
      "- - - - - - - - - - - - - - - - - - - - - - - - - - - \n",
      "Own implementation:\n",
      "Mean: 71.4500 \tMedian: 72.0000 \tMode: 74.0000\n",
      "\n",
      "- - - - - - - - - - - - - - - - - - - - - - - - - - - \n",
      "Numpy / scipy implementation:\n",
      "Mean: 71.4500 \tMedian: 71.5000 \tMode: 74.0000\n"
     ]
    }
   ],
   "source": [
    "# Mean \n",
    "n    = X.shape[0]\n",
    "mean = X.sum() / n\n",
    "\n",
    "# Median\n",
    "X_     = np.sort(X)\n",
    "median = X_[n//2]\n",
    "\n",
    "# Mode\n",
    "U, cnt = np.unique(X, return_counts=True)\n",
    "mode   = U[np.argmax(cnt)]\n",
    "\n",
    "print(\"- \" * 27)\n",
    "print(\"Own implementation:\")\n",
    "print(\"Mean: %.4f \\tMedian: %.4f \\tMode: %.4f\" % (mean, median, mode))\n",
    "\n",
    "print()\n",
    "print(\"- \" * 27)\n",
    "mean   = X.mean()\n",
    "median = np.median(X)\n",
    "mode   = scipy.stats.mode(X)[0]\n",
    "\n",
    "print(\"Numpy / scipy implementation:\")\n",
    "print(\"Mean: %.4f \\tMedian: %.4f \\tMode: %.4f\" % (mean, median, mode))\n"
   ]
  },
  {
   "cell_type": "markdown",
   "metadata": {},
   "source": [
    "**b)** What is the variance for $Y$?  "
   ]
  },
  {
   "cell_type": "code",
   "execution_count": 12,
   "metadata": {},
   "outputs": [
    {
     "name": "stdout",
     "output_type": "stream",
     "text": [
      "- - - - - - - - - - - - - - - \n",
      "Own implementation:\n",
      "Variance: 2738.4200\n",
      "\n",
      "- - - - - - - - - - - - - - - \n",
      "Numpy implementation:\n",
      "Variance: 1369.2100\n"
     ]
    }
   ],
   "source": [
    "mean_y = Y.mean()\n",
    "var_y  = ((Y-mean_y)**2).sum() / n\n",
    "\n",
    "print(\"- \" * 15)\n",
    "print(\"Own implementation:\")\n",
    "print(\"Variance: %.4f\" % var_y)\n",
    "\n",
    "print()\n",
    "print(\"- \" * 15)\n",
    "print(\"Numpy implementation:\")\n",
    "print(\"Variance: %.4f\" % Y.var())"
   ]
  },
  {
   "cell_type": "markdown",
   "metadata": {},
   "source": [
    "**c)** What is the probability of observing an age of 80 or higher?  "
   ]
  },
  {
   "cell_type": "code",
   "execution_count": 6,
   "metadata": {},
   "outputs": [
    {
     "name": "stdout",
     "output_type": "stream",
     "text": [
      "- - - - - - - - - - - - - - - \n",
      "Probability Mass Function:\n",
      "p(X=80) = 0.00%\n",
      "\n",
      "- - - - - - - - - - - - - - - \n",
      "Probability Density Function:\n",
      "p(X=80) = 1.08%\n"
     ]
    }
   ],
   "source": [
    "# Probability mass function solution:\n",
    "# num_80s / total_num\n",
    "n80  = X[X==80].sum()\n",
    "prob = n80 / n\n",
    "\n",
    "print(\"- \" * 15)\n",
    "print(\"Probability Mass Function:\")\n",
    "print(\"p(X=80) = %.2f%%\" % (prob*100))\n",
    "\n",
    "print()\n",
    "print(\"- \" * 15)\n",
    "prob = 1-scipy.stats.norm.cdf(80, X.mean(), np.std(X))\n",
    "\n",
    "print(\"Probability Density Function:\")\n",
    "print(\"p(X=80) = %.2f%%\" % (prob*100))"
   ]
  },
  {
   "cell_type": "markdown",
   "metadata": {},
   "source": [
    "**d)** Plot the normal distribution for $X$  "
   ]
  },
  {
   "cell_type": "code",
   "execution_count": 7,
   "metadata": {},
   "outputs": [
    {
     "data": {
      "text/plain": [
       "[<matplotlib.lines.Line2D at 0x7f009b795350>]"
      ]
     },
     "execution_count": 7,
     "metadata": {},
     "output_type": "execute_result"
    },
    {
     "data": {
      "image/png": "[encoded data removed]",
      "text/plain": [
       "<Figure size 432x288 with 1 Axes>"
      ]
     },
     "metadata": {
      "needs_background": "light"
     },
     "output_type": "display_data"
    }
   ],
   "source": [
    "x_mean = X.mean()\n",
    "x_std  = X.std()\n",
    "\n",
    "mi = x_mean - 3*x_std\n",
    "ma = x_mean + 3*x_std\n",
    "x  = np.linspace(mi, ma, 100)\n",
    "y  = scipy.stats.norm.pdf(x, x_mean, x_std)\n",
    "\n",
    "fig, ax = plt.subplots(1, 1)\n",
    "ax.plot(x, y)"
   ]
  },
  {
   "cell_type": "markdown",
   "metadata": {},
   "source": [
    "**e)** Find the 2-dimensional mean $\\hat \\mu$ and the covariance matrix $\\widehat \\Sigma$ for these two variables.  "
   ]
  },
  {
   "cell_type": "code",
   "execution_count": 8,
   "metadata": {},
   "outputs": [
    {
     "name": "stdout",
     "output_type": "stream",
     "text": [
      "- - - - - - - - - - - - - - - \n",
      "Own implementation:\n",
      "Mean: [[ 71.45 164.7 ]]\n",
      "Covariance: \n",
      "[[  14.57631579  128.87894737]\n",
      " [ 128.87894737 1441.27368421]]\n",
      "\n",
      "- - - - - - - - - - - - - - - \n",
      "Numpy implementation:\n",
      "Mean: [ 71.45 164.7 ]\n",
      "Covariance: \n",
      "[[  14.57631579  128.87894737]\n",
      " [ 128.87894737 1441.27368421]]\n"
     ]
    }
   ],
   "source": [
    "# TODO\n",
    "XY   = np.c_[X, Y] # Concatenate X and Y to a matrix of shape [20, 2] \n",
    "mean = np.sum(XY, axis=0, keepdims=True) / n\n",
    "cov  = ((XY-mean).T @ (XY-mean)) / (n-1)\n",
    "\n",
    "print(\"- \" * 15)\n",
    "print(\"Own implementation:\")\n",
    "print(\"Mean: %s\\nCovariance: \\n%s\" % (mean, cov))\n",
    "\n",
    "print()\n",
    "print(\"- \" * 15)\n",
    "mean = XY.mean(0)\n",
    "cov  = np.cov(XY.T)\n",
    "\n",
    "print(\"Numpy implementation:\")\n",
    "print(\"Mean: %s\\nCovariance: \\n%s\" % (mean, cov))"
   ]
  },
  {
   "cell_type": "markdown",
   "metadata": {},
   "source": [
    "**f)** Normalize the data with _range normalization_ to the range $[0, 1]$  "
   ]
  },
  {
   "cell_type": "code",
   "execution_count": 9,
   "metadata": {},
   "outputs": [],
   "source": [
    "mi  = XY.min(0, keepdims=True)\n",
    "ma  = XY.max(0, keepdims=True)\n",
    "\n",
    "XY_ = (XY - mi) / (ma - mi)\n",
    "\n",
    "mi  = XY_.min(0, keepdims=True)\n",
    "ma  = XY_.max(0, keepdims=True)\n",
    "\n",
    "assert np.allclose(np.zeros_like(mi), mi)\n",
    "assert np.allclose(np.ones_like(ma), ma)"
   ]
  },
  {
   "cell_type": "markdown",
   "metadata": {},
   "source": [
    "**g)** Normalize the data with _standard score normalization_, such that is has mean 0 and standard deviation 1.  \n"
   ]
  },
  {
   "cell_type": "code",
   "execution_count": 10,
   "metadata": {},
   "outputs": [],
   "source": [
    "mean = XY.mean(0, keepdims=True)\n",
    "std  = XY.std(0, keepdims=True)\n",
    "\n",
    "XY_  = (XY - mean) / std\n",
    "\n",
    "mean = XY_.mean(0, keepdims=True)\n",
    "std  = XY_.std(0, keepdims=True)\n",
    "\n",
    "assert np.allclose(np.zeros_like(mean), mean)\n",
    "assert np.allclose(np.ones_like(std), std)"
   ]
  },
  {
   "cell_type": "markdown",
   "metadata": {},
   "source": [
    "## Exercise 2: Robustness\n",
    "Determine whether the following statements are true or false and explain why.\n",
    " - Mean is robust against outliers\n",
    " - Median is robust against outliers\n",
    " - Standard deviation is robust against outliers"
   ]
  },
  {
   "cell_type": "markdown",
   "metadata": {},
   "source": [
    "## Exercise 3: More on robustness\n",
    "Provide an informal definition of when a measure is robust. "
   ]
  },
  {
   "cell_type": "markdown",
   "metadata": {},
   "source": [
    "## Exercise 4: Independence analysis\n",
    "Please explain what the idea of independence analysis is using contingency tables; for which kind of data is this particularly relevant? "
   ]
  },
  {
   "cell_type": "markdown",
   "metadata": {},
   "source": [
    "## Exercise 5: Contingency table and $\\chi^2$ statistics\n",
    "In the table below,  assuming that $X_1$ is discretized into three bins, as follows: $[-2, -0.5]$, $[-0.5, 0.5]$, and $[0.5, 2]$.\n",
    "\n",
    "![Table 3.11](graphics/3.11.png)\n",
    "\n",
    "Answer the following questions\n",
    "\n",
    "**a)** Construct the contingency table between the discretized $X_1$ and $X_2$ attributes . Include the marginal counts.  \n",
    "**b)** Compute the $\\chi^2$ statistic between them.  \n",
    "**c)** Determine whether they are dependent or not at the 5% significance level. Use the $\\chi^2$ critical values from Table 3.10.\n",
    "\n",
    "![Table 3.10](graphics/3.10.png)"
   ]
  },
  {
   "cell_type": "code",
   "execution_count": 11,
   "metadata": {},
   "outputs": [
    {
     "name": "stdout",
     "output_type": "stream",
     "text": [
      "P\n",
      "Expected counts \n",
      " [[1.8 3.  1.2]\n",
      " [1.2 2.  0.8]]\n",
      "Chi squared: 3.8889 \tDegrees of freedom: 2\n",
      "\n",
      "Scipy imiplementation:\n",
      "Chi square: 3.8889 \tP-value: 0.1431 \tDegrees of freedom: 2 \t Expected counts: \n",
      "[[1.8 3.  1.2]\n",
      " [1.2 2.  0.8]]\n"
     ]
    }
   ],
   "source": [
    "X = np.array([\n",
    "    [2, 4, 0],\n",
    "    [1, 1, 2],\n",
    "])\n",
    "\n",
    "n      = np.sum(X)\n",
    "X1_cnt = X.sum(0, keepdims=True)\n",
    "X1_P   = X1_cnt / n\n",
    "X2_cnt = X.sum(1, keepdims=True)\n",
    "X2_P   = X2_cnt / n\n",
    "\n",
    "E_cnts = X1_P * X2_P * n\n",
    "Chi_sq = (((X - E_cnts)**2) / E_cnts).sum()\n",
    "\n",
    "m2, m1 = X.shape\n",
    "deg_fr = (m1 - 1) * (m2 - 1)\n",
    "\n",
    "print(\"P\")\n",
    "\n",
    "print(\"Expected counts \\n\", E_cnts)\n",
    "print(\"Chi squared: %.4f \\tDegrees of freedom: %i\" % (Chi_sq, deg_fr))\n",
    "\n",
    "print(\"\\nScipy imiplementation:\")\n",
    "print(\"Chi square: %.4f \\tP-value: %.4f \\tDegrees of freedom: %i \\t Expected counts: \\n%s\" % scipy.stats.chi2_contingency(X))\n",
    "\n",
    "# Conclusion is that since P-value is > 0.05, we fail to reject the null-hypothesis."
   ]
  },
  {
   "cell_type": "markdown",
   "metadata": {},
   "source": [
    "## Exercise 6: Working with Metrics\n",
    "\n",
    "Consider the following situation: \n",
    "\n",
    "We know some distances between data points: $d(p_1,p_2)=1$, $d(p_1,p_3)=2$, $d(p_3, p_4)=1$. \n",
    "We also know that $d$ is a metric. \n",
    "\n",
    "1. What do we know about the remaining distances? \n",
    "2. Do we need to compute further distances if we want to find the two points that are most similar to $p_1$? \n",
    "3. Can $p_4$ be closer to $p_2$ than $p_3$ is to $p_2$? "
   ]
  },
  {
   "cell_type": "markdown",
   "metadata": {},
   "source": [
    "# Optional Exercises\n",
    "\n",
    "## Exercise 7: Mean absolute deviation \n",
    "Define a measure of deviation called _mean absolute deviation_ for a random variable $X$ as follows:\n",
    "\n",
    "$$\n",
    "\\frac{1}{n} \\sum_{i=1}^n |x_i - \\mu|\n",
    "$$\n",
    "\n",
    "Is this measure robust? Why or why not?"
   ]
  },
  {
   "cell_type": "markdown",
   "metadata": {},
   "source": [
    "## Exercise 8: Correlation\n",
    "\n",
    "Consider the table below. Assume that both the attributes $X$ and $Y$ are numeric, and the\n",
    "table represents the entire population. If we know that the correlation between $X$\n",
    "and $Y$ is zero, what can you infer about the values of $Y$?\n",
    "\n",
    "|$X$ | $Y$ |\n",
    "|:---:|:---:|\n",
    "|$1$|$a$|\n",
    "|$0$|$b$|\n",
    "|$1$|$c$|\n",
    "|$0$|$a$|\n",
    "|$0$|$c$|"
   ]
  },
  {
   "cell_type": "markdown",
   "metadata": {},
   "source": [
    "# Exercise 9: 3-way contingency table\n",
    "\n",
    "Consider the 3-way contingency table for attributes $X$,$Y$,$Z$ shown in the table below.\n",
    "Compute the $\\chi^2$ metric for the correlation between $Y$ and $Z$. Are they dependent\n",
    "or independent at the 95% confidence level? See Table 3.10 above for $\\chi^2$ values.\n",
    "\n",
    "![Table 3.9](graphics/3.9.png)"
   ]
  },
  {
   "cell_type": "markdown",
   "metadata": {},
   "source": [
    "# Exercise 10: Mixed data\n",
    "\n",
    "Consider the \"mixed\" data given in the table below. Here $X_1$ is a numeric attribute and\n",
    "$X_2$ is a categorical one. Assume that the domain of $X_2$ is given as $dom(X_2) = \\{a, b\\}$.\n",
    "Answer the following questions.\n",
    "**a)** What is the mean vector for this dataset?  \n",
    "**b)** What is the covariance matrix?  \n",
    "\n",
    "![Table 3.11](graphics/3.11.png)\n",
    "\n"
   ]
  }
 ],
 "metadata": {
  "kernelspec": {
   "display_name": "Python 3",
   "language": "python",
   "name": "python3"
  },
  "language_info": {
   "codemirror_mode": {
    "name": "ipython",
    "version": 3
   },
   "file_extension": ".py",
   "mimetype": "text/x-python",
   "name": "python",
   "nbconvert_exporter": "python",
   "pygments_lexer": "ipython3",
   "version": "3.7.6"
  }
 },
 "nbformat": 4,
 "nbformat_minor": 4
}
