{
 "cells": [
  {
   "cell_type": "markdown",
   "metadata": {},
   "source": [
    "# Exercises on Frequent Subgraph Mining"
   ]
  },
  {
   "cell_type": "code",
   "execution_count": 4,
   "metadata": {},
   "outputs": [],
   "source": [
    "import numpy as np\n",
    "import networkx as nx\n",
    "import matplotlib.pyplot as plt"
   ]
  },
  {
   "cell_type": "markdown",
   "metadata": {},
   "source": [
    "## Exercise 1 - DFS codes\n",
    "### Part A:\n",
    "\n",
    "Consider the graph illustrated in Figure 1 and its DFS traversal:\n",
    "\n",
    "<div style=\"margin: 0 auto; padding: 1em; text-align: center; max-width: 500px;\">\n",
    "    <img src=\"graphics/graph_dfs.jpg\" />\n",
    "    <p><b>Figure 1:</b> DFS traversal on graph. \n",
    "</div>\n",
    "\n",
    "The figure already lists some precedence relationships among edges in this DFS traversal, along with the ordering rule by which they hold. As a reminder, for $e_1 = (i_1, j_1), e_2 = (i_2, j_2)$, the following ordering rules hold:\n",
    "\n",
    "1. If $i_1 = i_2$ and $j_1 < j_2 \\Rightarrow e_1 < e_2$ \n",
    "2. If $i_1 < j_1$ and $j_1 = i_2 \\Rightarrow e_1 < e_2$\n",
    "3. If $e_1 < e_2$ and $e_2 < e_3 \\Rightarrow e_1 < e_3$  (transitive property)\n",
    "\n",
    "Complete the list of precedence relationships and rules by which they hold.\n",
    "\n",
    "### Part B:\n",
    "\n",
    "Apart from the DFS traversal examined in the above and the corresponding code, the same graph has other DFS codes as well. Figure 2 below shows two other cases.\n",
    "\n",
    "<div style=\"margin: 0 auto; padding: 1em; text-align: center; max-width: 500px;\">\n",
    "    <img src=\"graphics/graph2_dfs.jpg\" />\n",
    "    <p><b>Figure 2:</b> DFS traversal on graph. \n",
    "</div>\n",
    "\n",
    "Write the DFS code of the two rightmost graphs in the Figure."
   ]
  },
  {
   "cell_type": "markdown",
   "metadata": {},
   "source": [
    "### Part C:\n",
    "\n",
    "Find the minimal DFS code of the same graph by lexicographic ordering. (hint: see slides)"
   ]
  },
  {
   "cell_type": "markdown",
   "metadata": {},
   "source": [
    "### Part D:\n",
    "\n",
    "Consider the following mutation of labels in the above graph: all ‘a’ labels are turned to ‘b’ and ‘b’ labels are turned to ‘a’ (i.e., ‘a’ and ‘b’ labels swap values). Find the minimal DFS code of the new, mutated graph."
   ]
  },
  {
   "cell_type": "markdown",
   "metadata": {},
   "source": [
    "## Exercise 2 (min DFS code generation).\n",
    "\n",
    "Implement an algorithm that finds the minimum DFS-code of a given graph. Hint: You may extract such an algorithm from this [gSpan code](https://github.com/LasseRegin/gSpan).\n",
    "\n",
    "Note that we only need to generate a minimum DFS-code for the whole graph, rather than exhaustively generating all the DFS codes for its subgraphs, as gSpan does."
   ]
  },
  {
   "cell_type": "markdown",
   "metadata": {},
   "source": [
    "Let's build the graph corresponding to Figure 1 and Figure 2, which we can use to test our implementation."
   ]
  },
  {
   "cell_type": "code",
   "execution_count": 5,
   "metadata": {},
   "outputs": [
    {
     "data": {
      "image/png": "[encoded data removed]",
      "text/plain": [
       "<Figure size 432x288 with 1 Axes>"
      ]
     },
     "metadata": {},
     "output_type": "display_data"
    }
   ],
   "source": [
    "# Defining the graph (with labels)\n",
    "G = nx.Graph()\n",
    "G.add_node(0, label='X')\n",
    "G.add_node(1, label='Y')\n",
    "G.add_node(2, label='X')\n",
    "G.add_node(3, label='Z')\n",
    "G.add_node(4, label='Z')\n",
    "G.add_edge(0, 1, label='a')\n",
    "G.add_edge(0, 2, label='a')\n",
    "G.add_edge(1, 2, label='b')\n",
    "G.add_edge(1, 3, label='b')\n",
    "G.add_edge(1, 4, label='d')\n",
    "G.add_edge(2, 3, label='c')\n",
    "pos = {0: (0., 1.), 1: (0.05, 0.75), 2: (0., 0.5), 3: (0.05, 0.25), 4: (0.25, 0.5)}  # Layout for plotting\n",
    "\n",
    "# Plotting the graph\n",
    "def plot_graph_with_labels(G, pos, ax, label_key='label'):\n",
    "    # Draw nodes and edges (without labels)\n",
    "    nx.draw(G, pos=pos, ax=ax) \n",
    "    # Draw node labels\n",
    "    nx.draw_networkx_labels(G, pos=pos, labels={k:v for k, v in G.nodes(data=label_key)}, font_color='white') \n",
    "    # Draw edge labels\n",
    "    nx.draw_networkx_edge_labels(G, pos=pos, edge_labels={tuple(pos): v for *pos, v in G.edges(data=label_key)}, font_color='black')\n",
    "    \n",
    "fig, ax = plt.subplots()\n",
    "ax.set_xlim([-0.5, 0.5])\n",
    "plot_graph_with_labels(G, pos, ax)"
   ]
  },
  {
   "cell_type": "code",
   "execution_count": 6,
   "metadata": {},
   "outputs": [
    {
     "name": "stdout",
     "output_type": "stream",
     "text": [
      "1. You can get the label of a node as follows:\n",
      "Label for node 1:  Y\n",
      "---\n",
      "2. You can get the nodes and associated labels as follows:\n",
      "0 X\n",
      "1 Y\n",
      "2 X\n",
      "3 Z\n",
      "4 Z\n",
      "---\n",
      "3. You can get the edge labels as follows:\n",
      "Label for edge (1, 3):  b\n",
      "---\n",
      "4. You can get all edges and their labels as follows: \n",
      "Node (0, 1) has label a\n",
      "Node (0, 2) has label a\n",
      "Node (1, 2) has label b\n",
      "Node (1, 3) has label b\n",
      "Node (1, 4) has label d\n",
      "Node (2, 3) has label c\n",
      "---\n",
      "5. Neighbors of a node n can be found as follows:\n",
      "[0, 2, 3, 4] [(0, 'X'), (2, 'X'), (3, 'Z'), (4, 'Z')]\n",
      "You could even define a function that sorts them\n",
      "[(1, 0, 'a', 'X'), (1, 2, 'b', 'X'), (1, 3, 'b', 'Z'), (1, 4, 'd', 'Z')]\n"
     ]
    }
   ],
   "source": [
    "# A couple of python tricks: \n",
    "print(\"1. You can get the label of a node as follows:\")\n",
    "print(\"Label for node 1: \", G.nodes[1]['label'])\n",
    "\n",
    "print(\"---\")\n",
    "print(\"2. You can get the nodes and associated labels as follows:\")\n",
    "for n, l in G.nodes(data='label'):\n",
    "    print(n, l)\n",
    "    \n",
    "print(\"---\")\n",
    "print(\"3. You can get the edge labels as follows:\")\n",
    "print(\"Label for edge (1, 3): \", G.edges[(1, 3)]['label'])\n",
    "\n",
    "print(\"---\")\n",
    "print(\"4. You can get all edges and their labels as follows: \")\n",
    "for i, j, l in G.edges(data='label'):\n",
    "    print(\"Node (%d, %d) has label %s\" % (i, j, l))\n",
    "    \n",
    "print(\"---\")\n",
    "print(\"5. Neighbors of a node n can be found as follows:\")\n",
    "neighbors = list(G.neighbors(1))\n",
    "neighbors_with_labels = [(n, G.nodes[n]['label']) for n in G.neighbors(1)]\n",
    "print(neighbors, neighbors_with_labels)\n",
    "\n",
    "print(\"You could even define a function that sorts them\")\n",
    "def neighbors(G, n):\n",
    "    \"\"\" Returns tuples of (node_idx, neighbor_idx, 'edge_label', 'neighbor_label')\n",
    "        sorted lexicographically by labels\n",
    "    \"\"\"\n",
    "    edges = G.edges\n",
    "    nodes = G.nodes\n",
    "    \n",
    "    neighbors = [(n, n_, edges[(n, n_)]['label'], nodes[n_]['label']) for n_ in G.neighbors(n)]\n",
    "    neighbors = sorted(neighbors, key=lambda x: tuple(x[2:]))\n",
    "    return neighbors\n",
    "\n",
    "print(neighbors(G, 1))"
   ]
  },
  {
   "cell_type": "code",
   "execution_count": null,
   "metadata": {},
   "outputs": [],
   "source": [
    "def dfs(G, v):\n",
    "    \"\"\"\n",
    "        Do a dfs for some node v and return the code for that dfs.\n",
    "    \"\"\"\n",
    "    make_tuple = lambda fr, to: (node_idx[fr], node_idx[to], G.nodes[fr]['label'], G.edges[(fr, to)]['label'], G.nodes[to]['label'])\n",
    "    code = []\n",
    "    \n",
    "    # TODO Do dfs traversal with respect to lexocographical order\n",
    "    \n",
    "    return code\n",
    "\n",
    "def is_smaller(c1, c2):\n",
    "    \"\"\"\n",
    "        Compare codes according to lexicographical order.\n",
    "    \"\"\"\n",
    "    # TODO Your code here\n",
    "    return False\n",
    "\n",
    "def min_dfs_code(G):\n",
    "    \"\"\"\n",
    "        Input:\n",
    "            G:   A networkx graph.\n",
    "        Output:\n",
    "            dfs: A list of tuples [(i, j, L_i, L_{ij}, L_j), ...]\n",
    "    \"\"\"\n",
    "    # Do DFS starting from each node\n",
    "    code_options = [dfs(G, v) for v in G.nodes()]\n",
    "\n",
    "    # TODO Your code here\n",
    "    # Find smallest code\n",
    "    # TODO Your code here\n",
    "    \n",
    "    return code_options[idx]\n",
    "\n",
    "code = min_dfs_code(G)\n",
    "\n",
    "from tabulate import tabulate\n",
    "print(tabulate(code), headers=['i', 'j', 'Li', 'Lij', 'Lj'])"
   ]
  },
  {
   "cell_type": "code",
   "execution_count": 1,
   "metadata": {},
   "outputs": [
    {
     "name": "stdout",
     "output_type": "stream",
     "text": [
      "Requirement already satisfied: tabulate in /home/fhv/anaconda3/envs/dm20/lib/python3.7/site-packages (0.8.3)\n"
     ]
    }
   ],
   "source": [
    "# If you don't have tabulate installed yet: \n",
    "!pip install tabulate"
   ]
  }
 ],
 "metadata": {
  "kernelspec": {
   "display_name": "Python 3",
   "language": "python",
   "name": "python3"
  },
  "language_info": {
   "codemirror_mode": {
    "name": "ipython",
    "version": 3
   },
   "file_extension": ".py",
   "mimetype": "text/x-python",
   "name": "python",
   "nbconvert_exporter": "python",
   "pygments_lexer": "ipython3",
   "version": "3.7.6"
  }
 },
 "nbformat": 4,
 "nbformat_minor": 4
}
