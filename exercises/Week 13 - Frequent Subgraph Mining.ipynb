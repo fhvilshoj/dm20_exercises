{
 "cells": [
  {
   "cell_type": "markdown",
   "metadata": {},
   "source": [
    "# Exercises on Frequent Subgraph Mining"
   ]
  },
  {
   "cell_type": "code",
   "execution_count": 6,
   "metadata": {},
   "outputs": [],
   "source": [
    "import numpy as np\n",
    "import networkx as nx\n",
    "import matplotlib.pyplot as plt"
   ]
  },
  {
   "cell_type": "markdown",
   "metadata": {},
   "source": [
    "## Exercise 1 - DFS codes\n",
    "### Part A:\n",
    "\n",
    "Consider the graph illustrated in Figure 1 and its DFS traversal:\n",
    "\n",
    "<div style=\"margin: 0 auto; padding: 1em; text-align: center; max-width: 500px;\">\n",
    "    <img src=\"graphics/graph_dfs.jpg\" />\n",
    "    <p><b>Figure 1:</b> DFS traversal on graph. \n",
    "</div>\n",
    "\n",
    "The figure already lists some precedence relationships among edges in this DFS traversal, along with the ordering rule by which they hold. As a reminder, for $e_1 = (i_1, j_1), e_2 = (i_2, j_2)$, the following ordering rules hold:\n",
    "\n",
    "1. If $i_1 = i_2$ and $j_1 < j_2 \\Rightarrow e_1 < e_2$ \n",
    "2. If $i_1 < j_1$ and $j_1 = i_2 \\Rightarrow e_1 < e_2$\n",
    "3. If $e_1 < e_2$ and $e_2 < e_3 \\Rightarrow e_1 < e_3$  (transitive property)\n",
    "\n",
    "Complete the list of precedence relationships and rules by which they hold.\n",
    "\n",
    "### Part B:\n",
    "\n",
    "Apart from the DFS traversal examined in the above and the corresponding code, the same graph has other DFS codes as well. Figure 2 below shows two other cases.\n",
    "\n",
    "<div style=\"margin: 0 auto; padding: 1em; text-align: center; max-width: 500px;\">\n",
    "    <img src=\"graphics/graph2_dfs.jpg\" />\n",
    "    <p><b>Figure 2:</b> DFS traversal on graph. \n",
    "</div>\n",
    "\n",
    "Write the DFS code of the two rightmost graphs in the Figure."
   ]
  },
  {
   "cell_type": "markdown",
   "metadata": {},
   "source": [
    "### Part C:\n",
    "\n",
    "Find the minimal DFS code of the same graph by lexicographic ordering. (hint: see slides)"
   ]
  },
  {
   "cell_type": "markdown",
   "metadata": {},
   "source": [
    "### Part D:\n",
    "\n",
    "Consider the following mutation of labels in the above graph: all ‘a’ labels are turned to ‘b’ and ‘b’ labels are turned to ‘a’ (i.e., ‘a’ and ‘b’ labels swap values). Find the minimal DFS code of the new, mutated graph."
   ]
  },
  {
   "cell_type": "markdown",
   "metadata": {},
   "source": [
    "## Exercise 2 (min DFS code generation).\n",
    "\n",
    "Implement an algorithm that finds the minimum DFS-code of a given graph. Hint: You may extract such an algorithm from this [gSpan code](https://github.com/LasseRegin/gSpan).\n",
    "\n",
    "Note that we only need to generate a minimum DFS-code for the whole graph, rather than exhaustively generating all the DFS codes for its subgraphs, as gSpan does."
   ]
  },
  {
   "cell_type": "markdown",
   "metadata": {},
   "source": [
    "Let's build the graph corresponding to Figure 1 and Figure 2, which we can use to test our implementation."
   ]
  },
  {
   "cell_type": "code",
   "execution_count": 45,
   "metadata": {},
   "outputs": [
    {
     "data": {
      "image/png": "[encoded data removed]",
      "text/plain": [
       "<Figure size 432x288 with 1 Axes>"
      ]
     },
     "metadata": {},
     "output_type": "display_data"
    }
   ],
   "source": [
    "# Defining the graph (with labels)\n",
    "G = nx.Graph()\n",
    "G.add_node(0, label='X')\n",
    "G.add_node(1, label='Y')\n",
    "G.add_node(2, label='X')\n",
    "G.add_node(3, label='Z')\n",
    "G.add_node(4, label='Z')\n",
    "G.add_edge(0, 1, label='a')\n",
    "G.add_edge(0, 2, label='a')\n",
    "G.add_edge(1, 2, label='b')\n",
    "G.add_edge(1, 3, label='b')\n",
    "G.add_edge(1, 4, label='d')\n",
    "G.add_edge(2, 3, label='c')\n",
    "pos = {0: (0., 1.), 1: (0., 0.75), 2: (0., 0.5), 3: (0., 0.25), 4: (0.25, 0.5)}  # Layout for plotting\n",
    "\n",
    "# Plotting the graph\n",
    "def plot_graph_with_labels(G, pos, ax, label_key='label'):\n",
    "    # Draw nodes and edges (without labels)\n",
    "    nx.draw(G, pos=pos, ax=ax) \n",
    "    # Draw node labels\n",
    "    nx.draw_networkx_labels(G, pos=pos, labels={k:v for k, v in G.nodes(data=label_key)}, font_color='white') \n",
    "    # Draw edge labels\n",
    "    nx.draw_networkx_edge_labels(G, pos=pos, edge_labels={tuple(pos): v for *pos, v in G.edges(data=label_key)}, font_color='black')\n",
    "    \n",
    "fig, ax = plt.subplots()\n",
    "ax.set_xlim([-0.5, 0.5])\n",
    "plot_graph_with_labels(G, pos, ax)"
   ]
  },
  {
   "cell_type": "code",
   "execution_count": 52,
   "metadata": {},
   "outputs": [
    {
     "name": "stdout",
     "output_type": "stream",
     "text": [
      "Label for node 1:  Y\n",
      "0 X\n",
      "1 Y\n",
      "2 X\n",
      "3 Z\n",
      "4 Z\n",
      "Label for edge (1, 3):  b\n",
      "Node (0, 1) has label a\n",
      "Node (0, 2) has label a\n",
      "Node (1, 2) has label b\n",
      "Node (1, 3) has label b\n",
      "Node (1, 4) has label d\n",
      "Node (2, 3) has label c\n"
     ]
    }
   ],
   "source": [
    "# A couple of python tricks: \n",
    "# 1. You can get the label of a node as follows:\n",
    "print(\"Label for node 1: \", G.nodes[1]['label'])\n",
    "\n",
    "# 2. You can get the nodes and associated labels as follows:\n",
    "for n, l in G.nodes(data='label'):\n",
    "    print(n, l)\n",
    "    \n",
    "# 3. You can get the edge labels as follows:\n",
    "print(\"Label for edge (1, 3): \", G.edges[(1, 3)]['label'])\n",
    "\n",
    "# 4. You can get all edges and their labels as follows: \n",
    "for i, j, l in G.edges(data='label'):\n",
    "    print(\"Node (%d, %d) has label %s\" % (i, j, l))"
   ]
  },
  {
   "cell_type": "code",
   "execution_count": null,
   "metadata": {},
   "outputs": [],
   "source": [
    "def min_dfs_code(G):\n",
    "    \"\"\"\n",
    "        Input:\n",
    "            G:   A networkx graph.\n",
    "        Output:\n",
    "            dfs: A list of tuples [(i, j, L_i, L_{ij}, L_j), ...]\n",
    "    \"\"\"\n",
    "    dfs = []\n",
    "    \n",
    "    # TODO Your code here\n",
    "    # TODO Your code here\n",
    "    \n",
    "    return dfs\n",
    "\n",
    "print(min_dfs_code(G))"
   ]
  }
 ],
 "metadata": {
  "kernelspec": {
   "display_name": "Python 3",
   "language": "python",
   "name": "python3"
  },
  "language_info": {
   "codemirror_mode": {
    "name": "ipython",
    "version": 3
   },
   "file_extension": ".py",
   "mimetype": "text/x-python",
   "name": "python",
   "nbconvert_exporter": "python",
   "pygments_lexer": "ipython3",
   "version": "3.7.6"
  }
 },
 "nbformat": 4,
 "nbformat_minor": 4
}
