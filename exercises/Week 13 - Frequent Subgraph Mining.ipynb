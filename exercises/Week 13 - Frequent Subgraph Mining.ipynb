{
 "cells": [
  {
   "cell_type": "markdown",
   "metadata": {},
   "source": [
    "# Exercises on Frequent Subgraph Mining\n",
    "\n",
    "## Exercise 1 - DFS codes\n",
    "### Part A:\n",
    "\n",
    "Consider the graph illustrated in Figure 1 and its DFS traversal:\n",
    "\n",
    "<div style=\"margin: 0 auto; padding: 1em; text-align: center; max-width: 500px;\">\n",
    "    <img src=\"graphics/graph_dfs.jpg\" />\n",
    "    <p><b>Figure 1:</b> DFS traversal on graph. \n",
    "</div>\n",
    "\n",
    "The figure already lists some precedence relationships among edges in this DFS traversal, along with the ordering rule by which they hold. As a reminder, for $e_1 = (i_1, j_1), e_2 = (i_2, j_2)$, the following ordering rules hold:\n",
    "\n",
    "1. If $i_1 = i_2$ and $j_1 < j_2 \\Rightarrow e_1 < e_2$ \n",
    "2. If $i_1 < j_1$ and $j_1 = i_2 \\Rightarrow e_1 < e_2$\n",
    "3. If $e_1 < e_2$ and $e_2 < e_3 \\Rightarrow e_1 < e_3$  (transitive property)\n",
    "\n",
    "Complete the list of precedence relationships and rules by which they hold.\n",
    "\n",
    "### Part B:\n",
    "\n",
    "Apart from the DFS traversal examined in the above and the corresponding code, the same graph has other DFS codes as well. Figure 2 below shows two other cases.\n",
    "\n",
    "<div style=\"margin: 0 auto; padding: 1em; text-align: center; max-width: 500px;\">\n",
    "    <img src=\"graphics/graph2_dfs.jpg\" />\n",
    "    <p><b>Figure 2:</b> DFS traversal on graph. \n",
    "</div>\n",
    "\n",
    "Write the DFS code of the two rightmost graphs in the Figure."
   ]
  },
  {
   "cell_type": "markdown",
   "metadata": {},
   "source": [
    "### Part C:\n",
    "\n",
    "Find the minimal DFS code of the same graph by lexicographic ordering. (hint: see slides)"
   ]
  },
  {
   "cell_type": "markdown",
   "metadata": {},
   "source": [
    "### Part D:\n",
    "\n",
    "Consider the following mutation of labels in the above graph: all ‘a’ labels are turned to ‘b’ and ‘b’ labels are turned to ‘a’ (i.e., ‘a’ and ‘b’ labels swap values). Find the minimal DFS code of the new, mutated graph."
   ]
  },
  {
   "cell_type": "markdown",
   "metadata": {},
   "source": [
    "## Exercise 2 (min DFS code generation).\n",
    "\n",
    "Implement an algorithm that finds the minimum DFS-code of a given graph. Hint: You may extract such an algorithm from this [gSpan code](https://github.com/LasseRegin/gSpan).\n",
    "\n",
    "Note that we only need to generate a minimum DFS-code for the whole graph, rather than exhaustively generating all the DFS codes for its subgraphs, as gSpan does."
   ]
  },
  {
   "cell_type": "code",
   "execution_count": null,
   "metadata": {},
   "outputs": [],
   "source": [
    "# Code is on it's way. Make a pull tomorrow morning (Wednesday) ;-)"
   ]
  }
 ],
 "metadata": {
  "kernelspec": {
   "display_name": "Python 3",
   "language": "python",
   "name": "python3"
  },
  "language_info": {
   "codemirror_mode": {
    "name": "ipython",
    "version": 3
   },
   "file_extension": ".py",
   "mimetype": "text/x-python",
   "name": "python",
   "nbconvert_exporter": "python",
   "pygments_lexer": "ipython3",
   "version": "3.7.6"
  }
 },
 "nbformat": 4,
 "nbformat_minor": 4
}
