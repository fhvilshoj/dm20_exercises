{
 "cells": [
  {
   "cell_type": "markdown",
   "metadata": {},
   "source": [
    "# Data Mining Handin 1\n",
    "This handin is about clustering algorithms.\n",
    "\n",
    "The handin is mandatory, and should be done in groups of 2-3 students. Each group\n",
    "must prepare a report in PDF format as outlined below. Please submit all your\n",
    "Python files in a zip file, and your PDF report outside the zip file, to\n",
    "Blackboard no later than **March 3rd kl. 14.14**."
   ]
  },
  {
   "cell_type": "code",
   "execution_count": 1,
   "metadata": {},
   "outputs": [],
   "source": [
    "%matplotlib inline\n",
    "import matplotlib.pyplot as plt\n",
    "\n",
    "import numpy as np\n",
    "\n",
    "from sklearn.decomposition import PCA\n",
    "from sklearn.datasets import make_moons\n",
    "\n",
    "import sys\n",
    "sys.path.append('..')\n",
    "from utilities.load_data import load_iris_PC, load_t7, load_synthetic_data"
   ]
  },
  {
   "cell_type": "markdown",
   "metadata": {},
   "source": [
    "# 1. Theoretical Questions\n",
    "\n",
    "**Report section 1:**  \n",
    "a) Please describe the KDD process. \n",
    "\n",
    "b) Please explain what Data Mining is, and compare it with Machine Learning. \n",
    "\n",
    "c) Please define clustering, subspace clustering, and hierarchical clustering.\n",
    "\n",
    "d) Please discuss similarities and differences between clustering and unsupervised outlier detection \n",
    "\n",
    "e) Consider the following scenario: you have been asked to provide a subspace clustering of a data set. Since you already have an implementation of PCA for dimensionality reduction and a full space clustering (such as k-means or DBSCAN, the precise choice is not relevant for this question) available, you consider just using PCA and then full space clustering. Are the results expected to be similar? Why/why not? "
   ]
  },
  {
   "cell_type": "markdown",
   "metadata": {},
   "source": [
    "## 2. Implementing the Algorithms\n",
    "\n",
    "In this section, you must implement the DBSCAN algorithm and the SUBCLU algorithm."
   ]
  },
  {
   "cell_type": "markdown",
   "metadata": {},
   "source": [
    "### 2.1 DBSCAN\n",
    "First thing you will be implementing is the DBSCAN algorithm.\n",
    "You are allowed to structure your code however you want. \n",
    "The code below is inspired by [Zaki, p. 377] and serves as inspiration.\n",
    "Note, you are allowed to copy any code you produced during class."
   ]
  },
  {
   "cell_type": "code",
   "execution_count": null,
   "metadata": {},
   "outputs": [],
   "source": [
    "def L2_norm(x, y):\n",
    "    return np.sqrt(np.sum((x-y)**2))\n",
    "\n",
    "def densityConnected(x, k, ...): # You might need more parameters here.\n",
    "    for neighbor in x.Nx:\n",
    "        # Connect (potentially recursively)\n",
    "        pass\n",
    "\n",
    "def dbscan(X, e, m, dist_fn=L2_norm):\n",
    "    \"\"\"\n",
    "        Args:\n",
    "            X:       Matrix of shape [n, d] with data points on the rows.\n",
    "            e:       Epsilon distance for neighborhood calculations.\n",
    "            m:       Minimum neighbors in epsilon neighborhood for a point to be a core point.\n",
    "            dist_fn: Distance function to be used.\n",
    "        \n",
    "        Returns:\n",
    "            clusters:   A vector of shape [n,] with integers, indicating cluster assignments.\n",
    "                        Let clusters[i] == -1 if point x_i is an outlier and a non-negative \n",
    "                        integer corresponding to the cluster index of point x_i otherwise.\n",
    "    \"\"\"\n",
    "    \n",
    "    # TODO, code here.\n",
    "    \n",
    "    core = []\n",
    "    for x in X:\n",
    "        # Compute neighborhoods and identify cores\n",
    "        pass\n",
    "\n",
    "    k = 0\n",
    "    for c in core:\n",
    "        # Assign unassigned cores to clusters\n",
    "        # using densityConnect\n",
    "        pass\n",
    "\n",
    "    clusters = []\n",
    "    for i in range(k):\n",
    "        # Build cluster indicator vector\n",
    "        pass\n",
    "    \n",
    "    # End TODO\n",
    "    \n",
    "    return clusters\n",
    "\n",
    "clustering = dbscan(X, 5, 1)"
   ]
  },
  {
   "cell_type": "markdown",
   "metadata": {},
   "source": [
    "#### Verify that your algorithm works\n",
    "Below, we have made a small script that allows you to run your algorithm on the small 2D Iris data set and on the larger 2D data set from [Zaki, p. 376]."
   ]
  },
  {
   "cell_type": "code",
   "execution_count": null,
   "metadata": {},
   "outputs": [],
   "source": [
    "# Test clustering on iris_PC dataset\n",
    "slow = True\n",
    "if slow:\n",
    "    X, _ = load_t7()\n",
    "    n, _ = X.shape\n",
    "    np.random.seed(0)\n",
    "    X = X[np.random.permutation(n)]\n",
    "    X = X[:2000]\n",
    "    clustering = dbscan(X, 15, 5)\n",
    "else: \n",
    "    X, _ = load_iris_PC()\n",
    "    clustering = dbscan(X, 0.4, 5)\n",
    "\n",
    "fig, ax = plt.subplots(1, 1)\n",
    "sc = ax.scatter(*(X.T), c= clustering)\n",
    "plt.colorbar(sc)\n",
    "plt.show()"
   ]
  },
  {
   "cell_type": "markdown",
   "metadata": {},
   "source": [
    "## 1.2 DBSCAN with Gaussian kernel\n",
    "As in the exercises of Week 3, we are going to alter the DBSCAN algorithm to use another kernel.\n",
    "\n",
    "As stated in [Zaki, p.388], DBSCAN is a special case of DENCLUE.\n",
    "In particular, if we let $h=\\epsilon$ and $\\xi = minPts$ with a discrete kernel, then the two algorithms will yield the same result.\n",
    "\n",
    "We are now going to go a step in the other direction.\n",
    "Thas is, we will add a Gaussian kernel to the DBSCAN algorithm.\n",
    "The Gaussian kernel is defined as in Equation (1).\n",
    "\n",
    "$$\n",
    "K(\\mathbf{z})=\\frac{1}{(2 \\pi)^{d / 2}} \\exp \\left\\{-\\frac{\\mathbf{z}^{T} \\mathbf{z}}{2}\\right\\}\n",
    "\\qquad \\qquad (1)\n",
    "$$\n",
    "\n",
    "The implications in terms of the algorithm are the following:\n",
    "\n",
    "1. When selecting core points, they are now going to depend on a threshold $\\xi$ of the density estimates $\\hat f(x)$.\n",
    "2. The threshold $\\epsilon$ is now going to be compared against $K(\\frac{x-x_i}{h})$ when calculating neighborhoods and density connectedness.\n",
    "3. The value $h$ which was previously fixed to $\\epsilon$ is now going to be a parameter to the model.\n",
    "\n",
    "As before, the code below serves as inspiration."
   ]
  },
  {
   "cell_type": "code",
   "execution_count": null,
   "metadata": {},
   "outputs": [],
   "source": [
    "def K(z):\n",
    "    return  np.exp(-np.dot(z, z)/2) / np.sqrt(2*np.pi)\n",
    "\n",
    "def densityConnected(x, k, ...): # You might need more parameters here.\n",
    "    for neighbor in x.Nx:\n",
    "        # Connect (potentially recursively)\n",
    "        pass\n",
    "\n",
    "def gaussian_dbscan(X, e, xi, h):\n",
    "    \"\"\"\n",
    "        Args:\n",
    "            X:       Matrix of shape [n, d] with data points on the rows.\n",
    "            e:       Epsilon distance for neighborhood calculations.\n",
    "            m:       Minimum neighbors in epsilon neighborhood for a point to be a core point.\n",
    "            dist_fn: Distance function to be used.\n",
    "        \n",
    "        Returns:\n",
    "            clusters:   A vector of shape [n,] with integers, indicating cluster assignments.\n",
    "                        Let clusters[i] == -1 if point x_i is an outlier and a non-negative \n",
    "                        integer corresponding to the cluster index of point x_i otherwise.\n",
    "    \"\"\"\n",
    "    \n",
    "    # TODO, code here.\n",
    "    \n",
    "    core = []\n",
    "    for x in X:\n",
    "        # Compute neighborhoods and identify cores\n",
    "        pass\n",
    "\n",
    "    k = 0\n",
    "    for c in core:\n",
    "        # Assign unassigned cores to clusters\n",
    "        # using densityConnect\n",
    "        pass\n",
    "\n",
    "    clusters = []\n",
    "    for i in range(k):\n",
    "        # Build cluster indicator vector\n",
    "        pass\n",
    "    \n",
    "    # End TODO\n",
    "    \n",
    "    return clusters\n",
    "\n",
    "clustering = gaussian_dbscan(X, 5, 1)"
   ]
  },
  {
   "cell_type": "markdown",
   "metadata": {},
   "source": [
    "#### Verify that your algorithm works\n",
    "Below, we have made a small script that allows you to run your algorithm on the small 2D Iris data set."
   ]
  },
  {
   "cell_type": "code",
   "execution_count": null,
   "metadata": {},
   "outputs": [],
   "source": [
    "# Test clustering on iris_PC data and density-based data\n",
    "slow = True\n",
    "if slow:\n",
    "    X, _ = load_t7()\n",
    "    n, _ = X.shape\n",
    "    np.random.seed(0)\n",
    "    X = X[np.random.permutation(n)]\n",
    "    X = X[:2000]\n",
    "    h = 3.25\n",
    "    clustering = gaussian_dbscan(X, e=0.0001, xi=0.4, h=h)\n",
    "else: \n",
    "    X, _ = load_iris_PC()\n",
    "    h = 0.7\n",
    "    clustering = gaussian_dbscan(X, 0.2, 12., h)\n",
    "\n",
    "fig, ax = plt.subplots(1, 1)\n",
    "sc = ax.scatter(*(X[clustering >= 0].T), c=clustering[clustering>=0])\n",
    "sc = ax.scatter(*(X[clustering < 0].T), marker='x')\n",
    "plt.colorbar(sc)\n",
    "plt.show()"
   ]
  },
  {
   "cell_type": "markdown",
   "metadata": {},
   "source": [
    "## 1.3: Subspace Clustering\n",
    "The last algorithm that you need to implement is the bottom-up algorithm SUBCLU. \n",
    "\n",
    "As SUBCLU utilizes the DBSCAN algorithm (potentially a lot of times), it might be slow if you use your own implementation above. Therefor, you are also allowed to use [scipy.cluster.dbscan](https://scikit-learn.org/stable/modules/generated/sklearn.cluster.dbscan.html) to speed up things a bit.\n",
    " \n",
    "The code below serves a inspiration and may be used."
   ]
  },
  {
   "cell_type": "code",
   "execution_count": null,
   "metadata": {},
   "outputs": [],
   "source": [
    "# YOUR CODE HERE\n",
    "from sklearn.cluster import dbscan\n",
    "\n",
    "def _overlap(l1, l2):\n",
    "    \"\"\"\n",
    "        - - Helper function - -\n",
    "        Given two arrays of integets (l1 and l2), this function returns the overlapping set, if \n",
    "        the two arrays differs on exactly one integer each. If the two arrays differ on more,\n",
    "        None will be returned.\n",
    "        Examples:\n",
    "            _overlap([1, 2], [2, 3])       -> [1, 2, 3]\n",
    "            _overlap([6, 3, 1], [6, 4, 3]) -> [1, 3, 4, 6]\n",
    "            _overlap([1, 2], [3, 4])       -> None\n",
    "    \"\"\"\n",
    "    if not len(l1) == len(l2): raise ValueError(\"l1 and l2 should be the same length but were %i and %i, respectively\" % (len(l1), len(l2))) \n",
    "        \n",
    "    l1 = sorted(l1)\n",
    "    l2 = sorted(l2)\n",
    "\n",
    "    i, o1, o2 = 0, 0, 0\n",
    "    overlap = []\n",
    "    while max(i+o1, i+o2) < len(l1):\n",
    "        if o1 > 1 or o2 > 1: return None\n",
    "        if l1[i+o1] < l2[i+o2]: \n",
    "            overlap.append(l1[i+o1])\n",
    "            o1 += 1\n",
    "        elif l2[i+o2] < l1[i+o1]:\n",
    "            overlap.append(l2[i+o2])\n",
    "            o2 += 1\n",
    "        else:\n",
    "            overlap.append(l1[i+o1])\n",
    "            i+=1\n",
    "    if i+o1 < len(l1): overlap.append(l1[i])\n",
    "    if i+o2 < len(l2): overlap.append(l2[i])\n",
    "\n",
    "    return overlap\n",
    "\n",
    "def _supspace_spans(s, a):\n",
    "    \"\"\"\n",
    "        - - Helper function - -\n",
    "        Given two arrays of integers (s and a), the function return True if\n",
    "        a is (strict) subset of s.\n",
    "        Examples:\n",
    "            _subspace_spans([1, 2, 3], [1, 2])  -> True\n",
    "            _subspace_spans([1, 2, 3], [1])     -> True\n",
    "            _subspace_spans([1, 2, 3], [4])     -> False\n",
    "            _subspace_spans([1, 2], [1,2])      -> False\n",
    "    \"\"\"\n",
    "    if len(s) <= len(a): return False\n",
    "    s = sorted(s)\n",
    "    a = sorted(a)\n",
    "    offset = 0\n",
    "    for i in range(len(a)):\n",
    "        found = False\n",
    "        while i+offset < len(s) and not found: \n",
    "            found = s[i+offset] == a[i]\n",
    "            if not found and offset == 0: offset += 1\n",
    "            elif not found: return False\n",
    "        if not found and i < len(a) - 1: return False\n",
    "    return True\n",
    "\n",
    "def _candidate_subspace(Si):\n",
    "    \"\"\"\n",
    "        Function should return a list of candidate subspaces.\n",
    "    \"\"\"\n",
    "    # TODO\n",
    "    pass\n",
    "    \n",
    "def subclu(X, e, m):\n",
    "    \"\"\"\n",
    "        Args:\n",
    "            X:       Matrix of shape [n, d] with data points on the rows.\n",
    "            e:       Epsilon distance for neighborhood calculations.\n",
    "            m:       Minimum neighbors in epsilon neighborhood for a point to be a core point.\n",
    "        \n",
    "        Returns:\n",
    "            A tuple (S, C) of subspaces and clusters\n",
    "            S:       A list of lists, each contining the indexes of the subspaces.\n",
    "            C:       A list of lists, each containing clustering for the corresponding subspace.\n",
    "            \n",
    "    \"\"\"\n",
    "    n, d = X.shape\n",
    "    Si = []\n",
    "    Ci = []\n",
    "    \n",
    "    # First iteration with 1d subspaces\n",
    "    for a in range(d):\n",
    "        # TODO \n",
    "    \n",
    "    while len(Si) > 0:\n",
    "        Si_new = []\n",
    "        Ci_new = []\n",
    "\n",
    "        candidates = _candidate_subspace(Si)\n",
    "        for cand in candidates:\n",
    "            best_subspace = -1 # index of best subspace\n",
    "            min_cost = 999999999\n",
    "\n",
    "            for i, subspace in enumerate(Si):\n",
    "                if _supspace_spans(cand, subspace):\n",
    "                    # TODO Find best subspace\n",
    "\n",
    "            C_cand = []\n",
    "            cluster = Ci[best_subspace]\n",
    "            subspace = Si[best_subspace]\n",
    "            for i in range(cluster.max()):\n",
    "                # TODO calculate cluster and append if all points are not classified as outliers\n",
    "                \n",
    "        if len(Si_new) > 0:\n",
    "            Si = Si_new\n",
    "            Ci = Ci_new\n",
    "        else: \n",
    "            # Break if no larger subspaces should be considered\n",
    "            break\n",
    "    return Ci, Si"
   ]
  },
  {
   "cell_type": "markdown",
   "metadata": {},
   "source": [
    "To test that the SUBCLU algorithm works, we will need to use some data, which have clusters in some subspaces.\n",
    "We will use some synthetic data, which was introduced by [1].\n",
    "The data we will use is 10-dimensional and has multiple subclusters in 2-dimensional subspaces.\n",
    "Below, we have provided some code, which will run the `subclu` procedure above and plot the found clusters in the associated subspaces.\n",
    "It will also plot the clusters on the 2d PCA projection of the data.\n",
    "You may want to include a similar plot in your report for the question above about PCA and subspace clustering (it is not required though).\n",
    "\n",
    "[[1]](https://ieeexplore.ieee.org/abstract/document/6228154) Keller, F., Muller, E. and Bohm, K., 2012, April. HiCS: High contrast subspaces for density-based outlier ranking. In 2012 IEEE 28th international conference on data engineering (pp. 1037-1048). IEEE."
   ]
  },
  {
   "cell_type": "code",
   "execution_count": null,
   "metadata": {},
   "outputs": [],
   "source": [
    "X, y = load_synthetic_data()\n",
    "X_2d = PCA(n_components=2).fit_transform(X)\n",
    "C, S = subclu(X, 0.012, 30)\n",
    "print(\"Resulting S: \", S)\n",
    "print(\"Resulting unique clusters\")\n",
    "\n",
    "rows, cols = 2, 6\n",
    "fig, ax = plt.subplots(rows*2, cols, figsize=(4*cols, 8*rows))\n",
    "\n",
    "for i, (s, c) in enumerate(zip(S, C)):\n",
    "    unique, cnt = np.unique(c, return_counts=True)\n",
    "    print(\"%i\\t Num clusters: %i\\t Points pr. group %s\" % (i, unique.shape[0]-1, str(cnt)))\n",
    "    \n",
    "    if not len(s) == 2: continue # Can only plot 2d subspaces\n",
    "    \n",
    "    if i < rows * cols: \n",
    "        p = i // cols\n",
    "        q = i % cols\n",
    "        sc = ax[2*p,q].scatter(X[:,s[0]], X[:,s[1]], c=c)\n",
    "        ax[2*p+1,q].scatter(*(X_2d.T), c=c)\n",
    "        \n",
    "        sc = ax[2*p,q].scatter(X[c>=0,s[0]], X[c>=0,s[1]], c=c[c>=0])\n",
    "        ax[2*p,q].scatter(X[c<0,s[0]], X[c<0,s[1]], marker='x')\n",
    "        \n",
    "        ax[2*p+1,q].scatter(*(X_2d[c>=0].T), c=c[c>=0])\n",
    "        ax[2*p+1,q].scatter(*(X_2d[c<0].T), marker='x')\n",
    "        \n",
    "        if q == cols-1 and p == 0: \n",
    "            fsc = sc\n",
    "            fax = ax[2*p,q]\n",
    "fig.tight_layout()\n",
    "fig.colorbar(sc, ax=fax)\n",
    "plt.show()\n"
   ]
  },
  {
   "cell_type": "markdown",
   "metadata": {},
   "source": [
    "**Report section 2:**\n",
    "- Please explain how the three algorithms differ theoretically.\n",
    "- In what situations (or for what kind of data) would you expect each of the algorithms to be better?"
   ]
  },
  {
   "cell_type": "markdown",
   "metadata": {},
   "source": [
    "## 3. Evaluating clusterings\n",
    "\n",
    "Implement the F1 score and the silhouette coefficient, and compare the quality of\n",
    "several runs of your algorithms with proper hyper parameters.\n",
    "\n",
    "You will need labels to compute the F1 score. \n",
    "For this task, we will use the half moon data generated below. "
   ]
  },
  {
   "cell_type": "code",
   "execution_count": 2,
   "metadata": {},
   "outputs": [
    {
     "data": {
      "image/png": "[encoded data removed]",
      "text/plain": [
       "<Figure size 432x288 with 1 Axes>"
      ]
     },
     "metadata": {
      "needs_background": "light"
     },
     "output_type": "display_data"
    }
   ],
   "source": [
    "# Load the Iris data set\n",
    "X1, y1 = make_moons(n_samples=200, shuffle=True, noise=.06)\n",
    "X2, y2 = make_moons(n_samples=200, shuffle=True, noise=.06)\n",
    "\n",
    "X2[:,0] += 2.4\n",
    "y2 += 2\n",
    "\n",
    "X = np.concatenate([X1, X2], axis=0)\n",
    "y = np.concatenate([y1, y2], axis=0) / 4.\n",
    "\n",
    "fig, ax = plt.subplots(1, 1)\n",
    "ax.scatter(*(X.T), c=y)\n",
    "plt.show()"
   ]
  },
  {
   "cell_type": "markdown",
   "metadata": {},
   "source": [
    "## 3.1 Silhouette Coefficient\n",
    "Implement the Silhouette coefficient as explained during the lectures. Explanations can be found both on slides and in the book. You can use the following template"
   ]
  },
  {
   "cell_type": "code",
   "execution_count": null,
   "metadata": {},
   "outputs": [],
   "source": [
    "def silhouette(data, clustering): \n",
    "    n, d = data.shape\n",
    "    k = np.max(clustering)+1\n",
    "\n",
    "    # YOUR CODE HERE\n",
    "    silh = None\n",
    "    # END CODE\n",
    "\n",
    "    return silh\n"
   ]
  },
  {
   "cell_type": "markdown",
   "metadata": {},
   "source": [
    "Try to run the [Kmeans](https://scikit-learn.org/stable/modules/generated/sklearn.cluster.k_means.html) algorithm (from scikit learn) with different values of $k$ and the DBSCAN algorithm with different values of $\\epsilon$ and $\\text{minPts}$, and compute the silhouette coefficient for each.\n",
    "\n",
    "You could use the following template."
   ]
  },
  {
   "cell_type": "code",
   "execution_count": null,
   "metadata": {},
   "outputs": [],
   "source": [
    "from scipy.cluster import k_means\n",
    "\n",
    "print(\"K-means\")\n",
    "for k in range(2, 10):\n",
    "    _, clusters = k_means(X, k)\n",
    "    # sc = silhouette(...)\n",
    "    print(k, sc)\n",
    "\n",
    "print(\"DBSCAN\")\n",
    "for e in [0.1 + i * 0.1 for i in range(10)]:\n",
    "    for minPts in range(2, 8):\n",
    "        #... = dbscan(X, e, minPts)\n",
    "        # sc = silhouette(...)\n",
    "        print(e, minPts, sc)"
   ]
  },
  {
   "cell_type": "markdown",
   "metadata": {},
   "source": [
    "**Report 3.1:**  \n",
    "- Include a tabel that holds the silhouette coefficient for the above experiment$^*$.\n",
    "- Which of the two algorithms performs better? \n",
    "\n",
    "\n",
    "$^*$ The `tabulate` package might come in handy for producing tables of results."
   ]
  },
  {
   "cell_type": "markdown",
   "metadata": {},
   "source": [
    "## 3.2 F1 Score\n",
    "Implement a function that computes the F1 score. \n",
    "\n",
    "You can use the following template."
   ]
  },
  {
   "cell_type": "code",
   "execution_count": null,
   "metadata": {},
   "outputs": [],
   "source": [
    "def f1(predicted, labels):\n",
    "    n, = predicted.shape\n",
    "    assert labels.shape == (n,)\n",
    "    r = np.max(predicted) + 1\n",
    "    k = np.max(labels) + 1\n",
    "\n",
    "    # Implement the F1 score here\n",
    "    # YOUR CODE HERE\n",
    "    contingency = None\n",
    "    F_individual = None\n",
    "    F_overall = None\n",
    "    # END CODE\n",
    "\n",
    "    assert contingency.shape == (r, k)\n",
    "    return F_individual, F_overall, contingency"
   ]
  },
  {
   "cell_type": "markdown",
   "metadata": {},
   "source": [
    "Make a similar experiment as the one for the silhouette coefficient. \n",
    "\n",
    "In other words: try to run the [Kmeans](https://scikit-learn.org/stable/modules/generated/sklearn.cluster.k_means.html) algorithm (from scikit learn) with different values of $k$ and the DBSCAN algorithm with different values of $\\epsilon$ and $\\text{minPts}$, and compute the F1-score for each."
   ]
  },
  {
   "cell_type": "code",
   "execution_count": null,
   "metadata": {},
   "outputs": [],
   "source": [
    "print(\"K-means\")\n",
    "for k in range(2, 10):\n",
    "    _, clusters = k_means(X, k)\n",
    "    # f1 = f1(...)\n",
    "    print(k, sc)\n",
    "\n",
    "print(\"DBSCAN\")\n",
    "for e in [0.1 + i * 0.1 for i in range(10)]:\n",
    "    for minPts in range(2, 8):\n",
    "        #... = dbscan(X, k, 50)\n",
    "        # f1 = f1(...)\n",
    "        print(e, minPts, sc)"
   ]
  },
  {
   "cell_type": "markdown",
   "metadata": {},
   "source": [
    "**Report section 3.2:**\n",
    "- Include a tabel that holds the F1-scores for the above experiment.\n",
    "- Which of the two algorithms performs better? \n",
    "\n",
    "**Report section 3.3:**  \n",
    "- Are any of the two evaluation measures (F1 score, Silhouette Coefficient) biased towards DBSCAN or k-means? If so, which one(s) favours which  algorithm(s) and how?\n",
    "- Consider the use of F1 score to evaluate SUBCLU - does the score accurately reflect the clustering notion of SUBCLU or what kind of changes would be needed for a proper evaluation?"
   ]
  },
  {
   "cell_type": "markdown",
   "metadata": {},
   "source": [
    "## Deliverables\n",
    "As part of the handin you must submit the following.\n",
    "\n",
    "### Code\n",
    "You must include a `.py` file including your implementations of the three algorithms (DBSCAN x2, SUBCLU) and the two evaluation measures (Silhouette coefficient and F1 score). Alternatively, you could code everything in here and upload the final IPython Notebook. \n",
    "\n",
    "### Report\n",
    "Your report should be 1-3 pages and clearly state who is in the group. It must cover:\n",
    "\n",
    "* Summary/Abstract: The status of the work, i.e., does it work, if not, then why.\n",
    "* Answers to the report sections stated above.\n"
   ]
  }
 ],
 "metadata": {
  "kernelspec": {
   "display_name": "Python 3",
   "language": "python",
   "name": "python3"
  },
  "language_info": {
   "codemirror_mode": {
    "name": "ipython",
    "version": 3
   },
   "file_extension": ".py",
   "mimetype": "text/x-python",
   "name": "python",
   "nbconvert_exporter": "python",
   "pygments_lexer": "ipython3",
   "version": "3.7.6"
  }
 },
 "nbformat": 4,
 "nbformat_minor": 4
}
